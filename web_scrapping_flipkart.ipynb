{
 "cells": [
  {
   "cell_type": "code",
   "execution_count": 6,
   "metadata": {},
   "outputs": [
    {
     "data": {
      "text/plain": [
       "'C:\\\\Users\\\\nick\\\\Documents\\\\Python Scripts'"
      ]
     },
     "execution_count": 6,
     "metadata": {},
     "output_type": "execute_result"
    }
   ],
   "source": [
    "import os\n",
    "x=os.getcwd()\n",
    "y=os.listdir(x)\n",
    "os.chdir('/Users/nick/Documents/Python Scripts')\n",
    "x"
   ]
  },
  {
   "cell_type": "code",
   "execution_count": 9,
   "metadata": {},
   "outputs": [],
   "source": [
    "import pandas as pd\n",
    "import numpy as np\n",
    "from pandas import DataFrame as df\n",
    "import requests\n",
    "import urllib.request\n",
    "from bs4 import BeautifulSoup\n"
   ]
  },
  {
   "cell_type": "code",
   "execution_count": 10,
   "metadata": {},
   "outputs": [
    {
     "data": {
      "text/plain": [
       "<Response [200]>"
      ]
     },
     "execution_count": 10,
     "metadata": {},
     "output_type": "execute_result"
    }
   ],
   "source": [
    "# input the url to scrap data from \n",
    "# response with the value <200> means that the request was successful\n",
    "url=\"https://www.flipkart.com/laptops/~buyback-guarantee-on-laptops-/pr?sid=6bo%2Cb5g&uniqBStoreParam1=val1&wid=11.productCard.PMU_V2\"\n",
    "response=requests.get(url)\n",
    "response"
   ]
  },
  {
   "cell_type": "code",
   "execution_count": 11,
   "metadata": {},
   "outputs": [],
   "source": [
    "# identify the data you are intersted in..i choose product,price and ratings and initialize them on an empty list\n",
    "product_name=[]#list the name of the product\n",
    "price=[]#lists the price of the product\n",
    "ratings=[]#lists the ratings  of the product\n",
    "\n",
    "\n"
   ]
  },
  {
   "cell_type": "code",
   "execution_count": 46,
   "metadata": {},
   "outputs": [],
   "source": [
    "# parse the data with Beautifulsoup so we can have nice nested beautfulsoup data structures\n",
    "\n",
    "soup=BeautifulSoup(response.text,\"html.parser\")\n",
    "\n",
    "\n",
    "# we iterate items in the response text to find all items in the \"a\" tags since we found out the information we\n",
    "# are looking for are nested in the \"div\" tags\n",
    "for a in soup.findAll('a',href=True,attrs={'class':'_31qSD5'}):\n",
    "    name=a.find('div', attrs={'class':'_3wU53n'})\n",
    "    price=a.find('div', attrs={'class':'_1vC4OE _2rQ-NK'})\n",
    "    rating=a.find('div', attrs={'class':'hGSR34'})\n",
    "product_name.append(name.text)\n",
    "price.append(price.text)\n",
    "ratings.append(rating.text) \n",
    "    \n"
   ]
  },
  {
   "cell_type": "code",
   "execution_count": 50,
   "metadata": {},
   "outputs": [
    {
     "data": {
      "text/html": [
       "<div>\n",
       "<style scoped>\n",
       "    .dataframe tbody tr th:only-of-type {\n",
       "        vertical-align: middle;\n",
       "    }\n",
       "\n",
       "    .dataframe tbody tr th {\n",
       "        vertical-align: top;\n",
       "    }\n",
       "\n",
       "    .dataframe thead th {\n",
       "        text-align: right;\n",
       "    }\n",
       "</style>\n",
       "<table border=\"1\" class=\"dataframe\">\n",
       "  <thead>\n",
       "    <tr style=\"text-align: right;\">\n",
       "      <th></th>\n",
       "      <th>Product_name</th>\n",
       "      <th>Price</th>\n",
       "      <th>Ratings</th>\n",
       "    </tr>\n",
       "  </thead>\n",
       "  <tbody>\n",
       "    <tr>\n",
       "      <th>0</th>\n",
       "      <td>{&lt;div class=\"_3wU53n\"&gt;Lenovo Core i3 6th Gen -...</td>\n",
       "      <td>{&lt;div class=\"_1vC4OE _2rQ-NK\"&gt;₹29,999₹29,999&lt;/...</td>\n",
       "      <td>{&lt;div class=\"niH0FQ\"&gt;&lt;span class=\"_2_KrJI\" id=...</td>\n",
       "    </tr>\n",
       "  </tbody>\n",
       "</table>\n",
       "</div>"
      ],
      "text/plain": [
       "                                        Product_name  ...                                            Ratings\n",
       "0  {<div class=\"_3wU53n\">Lenovo Core i3 6th Gen -...  ...  {<div class=\"niH0FQ\"><span class=\"_2_KrJI\" id=...\n",
       "\n",
       "[1 rows x 3 columns]"
      ]
     },
     "execution_count": 50,
     "metadata": {},
     "output_type": "execute_result"
    }
   ],
   "source": [
    "# creating a dataframe to store the scrapped data.\n",
    "# store the datafram in a csv file \"flipkart_dataset\"\n",
    "df=pd.DataFrame({\"Product_name\":{product_name},\"Price\":{price},\"Ratings\":{ratings}})\n",
    "df\n",
    "df.to_csv(\"Flipkart_dataset\", encoding='utf-8')\n",
    "df"
   ]
  }
 ],
 "metadata": {
  "kernelspec": {
   "display_name": "Python 3",
   "language": "python",
   "name": "python3"
  },
  "language_info": {
   "codemirror_mode": {
    "name": "ipython",
    "version": 3
   },
   "file_extension": ".py",
   "mimetype": "text/x-python",
   "name": "python",
   "nbconvert_exporter": "python",
   "pygments_lexer": "ipython3",
   "version": "3.7.3"
  }
 },
 "nbformat": 4,
 "nbformat_minor": 2
}
